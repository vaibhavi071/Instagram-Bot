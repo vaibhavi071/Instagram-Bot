{
 "cells": [
  {
   "cell_type": "code",
   "execution_count": null,
   "metadata": {},
   "outputs": [
    {
     "name": "stderr",
     "output_type": "stream",
     "text": [
      "[WDM] - Current google-chrome version is 85.0.4183\n",
      "[WDM] - Get LATEST driver version for 85.0.4183\n"
     ]
    },
    {
     "name": "stdout",
     "output_type": "stream",
     "text": [
      " \n"
     ]
    },
    {
     "name": "stderr",
     "output_type": "stream",
     "text": [
      "[WDM] - There is no [win32] chromedriver for browser 85.0.4183 in cache\n",
      "[WDM] - Get LATEST driver version for 85.0.4183\n",
      "[WDM] - Trying to download new driver from http://chromedriver.storage.googleapis.com/85.0.4183.87/chromedriver_win32.zip\n",
      "[WDM] - Driver has been saved in cache [C:\\Users\\hp\\.wdm\\drivers\\chromedriver\\win32\\85.0.4183.87]\n"
     ]
    }
   ],
   "source": [
    "# All imports\n",
    "from selenium import webdriver\n",
    "from getpass import getpass\n",
    "from webdriver_manager.chrome import ChromeDriverManager\n",
    "from selenium.webdriver.support.ui import WebDriverWait\n",
    "from selenium.webdriver.support import expected_conditions as EC\n",
    "from selenium.webdriver.common.by import By\n",
    "from selenium.webdriver.common.action_chains import ActionChains\n",
    "import numpy as np\n",
    "driver = webdriver.Chrome(ChromeDriverManager().install())\n",
    "import time\n",
    "import datetime\n",
    "import matplotlib.pyplot as plt\n",
    "import pandas as pd"
   ]
  },
  {
   "cell_type": "code",
   "execution_count": 4,
   "metadata": {},
   "outputs": [
    {
     "name": "stdout",
     "output_type": "stream",
     "text": [
      "Enter Password: ········\n"
     ]
    }
   ],
   "source": [
    "# Intialising Wait\n",
    "wait=WebDriverWait(driver,10)\n",
    "driver.get(\"https://www.instagram.com/\")\n",
    "text_fields = wait.until(EC.presence_of_all_elements_located((By.CLASS_NAME,\"_2hvTZ\")))\n",
    "# Username and Password Fields\n",
    "username = text_fields[0]\n",
    "password = text_fields[1]\n",
    "username.clear()\n",
    "username.send_keys(\"SAMPLE_USERNAME\")\n",
    "password.clear()\n",
    "\n",
    "# I have Implemented GETPASS, So password is also added anonymously as you can see in the output window\n",
    "password.send_keys(getpass(\"Enter Password: \"))\n",
    "# You may also use this \n",
    "# password.send_keys(\"SAMPLE_PASSWORD\")\n",
    "login = wait.until(EC.presence_of_all_elements_located((By.CLASS_NAME,\"sqdOP\")))[1]\n",
    "login.click()\n",
    "not_now = wait.until(EC.presence_of_element_located((By.XPATH,\"//div[contains(@class,'cmbtv')]/button\")))\n",
    "not_now.click()\n",
    "noti_not_now = wait.until(EC.presence_of_element_located((By.CLASS_NAME,\"HoLwm\")))\n",
    "noti_not_now.click() "
   ]
  },
  {
   "cell_type": "markdown",
   "metadata": {},
   "source": [
    "# Step 1: Now your friend has followed a lot of different food bloggers, he needs to analyse the habits of these bloggers.\n",
    "### From the list of instagram handles you obtained when you searched ‘food’ in previous project. Open the first 10 handles and find the top 5 which have the highest number of followers\n",
    "### Now Find the number of posts these handles have done in the previous 3 days.\n",
    "### Depict this information using a suitable graph."
   ]
  },
  {
   "cell_type": "code",
   "execution_count": 6,
   "metadata": {},
   "outputs": [
    {
     "name": "stdout",
     "output_type": "stream",
     "text": [
      "The usernames obtained by searching 'food' are : \n",
      "foodtalkindia\n",
      "foodmantra_india\n",
      "foodinsider\n",
      "yourfoodlab\n",
      "dilsefoodie\n",
      "foodmaniacindia\n",
      "food\n",
      "epicfoodlust\n",
      "buzzfeedfood\n",
      "food_lunatic\n",
      "\n",
      "\n",
      "\n",
      "The top 5 usernames as per their follower count are: \n",
      "buzzfeedfood\n",
      "foodinsider\n",
      "yourfoodlab\n",
      "dilsefoodie\n",
      "foodtalkindia\n",
      "\n",
      "\n",
      "\n",
      "Graph depicting the number of posts by the top 5 usernames is as follows : \n"
     ]
    },
    {
     "data": {
      "image/png": "[encoded data removed]",
      "text/plain": [
       "<Figure size 432x288 with 1 Axes>"
      ]
     },
     "metadata": {
      "needs_background": "light"
     },
     "output_type": "display_data"
    }
   ],
   "source": [
    "search=wait.until(EC.presence_of_element_located((By.CLASS_NAME,\"x3qfX\")))\n",
    "search.clear()\n",
    "search.send_keys(\"food\")\n",
    "usernames_a = wait.until(EC.presence_of_all_elements_located((By.CLASS_NAME,\"yCE8d\")))[:10]\n",
    "username_list= []\n",
    "for ele in usernames_a:\n",
    "    link=ele.get_attribute('href')\n",
    "    if \"tags\" not in link:\n",
    "        username_list.append(link.split(\"/\")[-2])\n",
    "        \n",
    "print(\"The usernames obtained by searching 'food' are : \")\n",
    "for ele in username_list:\n",
    "    print(ele)\n",
    "print()\n",
    "print()\n",
    "print()\n",
    "time.sleep(1)\n",
    "\n",
    "# Now a dictionary containing user names and their follower count\n",
    "dict1={}\n",
    "for i in range(len(username_list)):\n",
    "    driver.get(\"https://instagram.com/\"+str(username_list[i]))\n",
    "    follower_span = wait.until(EC.presence_of_element_located((By.XPATH,\"//ul[contains(@class,'k9GMp ')]/li[2]/a/span\")))\n",
    "    followers = follower_span.get_attribute(\"title\")\n",
    "    followers = int(followers.replace(\",\",\"\"))  \n",
    "    dict1[username_list[i]] = followers\n",
    "    time.sleep(3)\n",
    "dict1 = sorted(dict1.items(), key=lambda kv:kv[1],reverse = True)\n",
    "top_5_usernames = []\n",
    "for i in range(5):\n",
    "    top_5_usernames.append(dict1[i][0])\n",
    "\n",
    "    \n",
    "print(\"The top 5 usernames as per their follower count are: \")\n",
    "for ele in top_5_usernames:\n",
    "    print(ele)\n",
    "print()\n",
    "print()\n",
    "print()\n",
    "\n",
    "# Finding the number of posts made by the top 5 users, in the last 3 days.\n",
    "dict2={}\n",
    "for i in range(len(top_5_usernames)):\n",
    "    driver.get(\"https://instagram.com/\"+str(top_5_usernames[i]))\n",
    "    posts = driver.find_elements_by_class_name(\"v1Nh3.kIKUG._bz0w\")\n",
    "    wait=WebDriverWait(driver,10)\n",
    "    days = 0\n",
    "    x = datetime.datetime.now()\n",
    "    date_today = x.date()\n",
    "    j=0\n",
    "    no_of_posts= 0 \n",
    "\n",
    "    while days<=3:    \n",
    "        posts[j].click()\n",
    "        date_div = wait.until(EC.presence_of_element_located((By.XPATH,\"//div[contains(@class,'NnvRN')]/a/time\")))\n",
    "        date = date_div.get_attribute(\"datetime\")\n",
    "        date_calculated = date[:10]\n",
    "        close_button=wait.until(EC.presence_of_element_located((By.XPATH,\"//div[contains(@class,'_2dDPU')]/div[3]/button\")))\n",
    "        close_button.click()\n",
    "        date_object = datetime.datetime.strptime(date_calculated, '%Y-%m-%d').date()\n",
    "        days = (date_today-date_object).days\n",
    "        j=j+1\n",
    "        no_of_posts+=1\n",
    "    dict2[top_5_usernames[i]] = no_of_posts\n",
    "time.sleep(1)   \n",
    "names=[]\n",
    "values=[]\n",
    "for keys,value in dict2.items():\n",
    "    names.append(keys)\n",
    "    values.append(value)\n",
    "\n",
    "# Plotting a Graph    \n",
    "print(\"Graph depicting the number of posts by the top 5 usernames is as follows : \")\n",
    "\n",
    "plt.ylabel(\"No of Posts\")\n",
    "plt.xticks(rotation=40)\n",
    "plt.title('3 Day Activity')\n",
    "for i in range(len(names)):\n",
    "    plt.bar(names[i],values[i],edgecolor='black')\n",
    "plt.text(-0.07,values[0]+0.1,values[0])\n",
    "plt.text(0.93,values[1]+0.1,values[1])\n",
    "plt.text(1.93,values[2]+0.1,values[2])\n",
    "plt.text(2.93,values[3]+0.1,values[3])\n",
    "plt.text(3.93,values[4]+0.1,values[4])\n",
    "\n",
    "plt.show()"
   ]
  },
  {
   "cell_type": "code",
   "execution_count": 7,
   "metadata": {},
   "outputs": [
    {
     "data": {
      "text/plain": [
       "['buzzfeedfood', 'foodinsider', 'yourfoodlab', 'dilsefoodie', 'foodtalkindia']"
      ]
     },
     "execution_count": 7,
     "metadata": {},
     "output_type": "execute_result"
    }
   ],
   "source": [
    "top_5_usernames"
   ]
  },
  {
   "cell_type": "markdown",
   "metadata": {},
   "source": [
    "# Step 2: Your friend also needs a list of hashtags that he should use in his posts.\n",
    "### Open the 5 handles you obtained in the last question, and scrape the content of the first 10 posts of each handle.\n",
    "### Prepare a list of all words used in all the scraped posts and calculate the frequency of each word.\n",
    "### Create a csv file with two columns : the word and its frequency\n",
    "### Now, find the hashtags that were most popular among these bloggers\n",
    "### Plot a Pie Chart of the top 5 hashtags obtained and the number of times they were used by these bloggers in the scraped posts."
   ]
  },
  {
   "cell_type": "code",
   "execution_count": 9,
   "metadata": {},
   "outputs": [],
   "source": [
    "# top_5_usernames\n",
    "d={}\n",
    "def freqd(l):    \n",
    "    for ele in l:\n",
    "        if ele in d:\n",
    "            d[ele]+=1\n",
    "        else:\n",
    "            d[ele]=1\n",
    "    return d\n",
    "text=[None]*10\n",
    "wait = WebDriverWait(driver,10)\n",
    "for i in range(5):\n",
    "    driver.get(\"https://instagram.com/\"+str(top_5_usernames[i]))\n",
    "    posts = wait.until(EC.presence_of_all_elements_located((By.CLASS_NAME,\"v1Nh3.kIKUG._bz0w\")))[:10]\n",
    "    for j in range(10):        \n",
    "        posts[j].click()\n",
    "        post_content = wait.until(EC.presence_of_element_located((By.XPATH,'//div[contains(@class,\"C4VMK\")]/span')))\n",
    "        time.sleep(1)\n",
    "        text[j] = post_content.text\n",
    "        close_button=wait.until(EC.presence_of_element_located((By.XPATH,\"//div[contains(@class,'_2dDPU')]/div[3]/button\")))\n",
    "        close_button.click()\n",
    "        for ele in text[j]:\n",
    "            if ord(ele)>256 or ele in [\"\\n\",\".\",\"{\",\"}\",\"(\",\")\",\"-\",\":\",\",\" ]:           # Some stop words\n",
    "                text[j]=text[j].replace(ele, \" \")\n",
    "        words = text[j].split(\" \")\n",
    "        ans = freqd(words)\n",
    "\n",
    "# Ideas for cleaning data\n",
    "# 1. Replace \\n with \" \" \n",
    "# 2. Replace fullstops with \" \"\n",
    "# 3. Find a way to remove Emojis.\n",
    "# 4. Separate joined hashtags somehow if any\n",
    "# 5. Take care of special chars like - { : ! ? etc etc"
   ]
  },
  {
   "cell_type": "code",
   "execution_count": 17,
   "metadata": {},
   "outputs": [
    {
     "data": {
      "text/html": [
       "<div>\n",
       "<style scoped>\n",
       "    .dataframe tbody tr th:only-of-type {\n",
       "        vertical-align: middle;\n",
       "    }\n",
       "\n",
       "    .dataframe tbody tr th {\n",
       "        vertical-align: top;\n",
       "    }\n",
       "\n",
       "    .dataframe thead th {\n",
       "        text-align: right;\n",
       "    }\n",
       "</style>\n",
       "<table border=\"1\" class=\"dataframe\">\n",
       "  <thead>\n",
       "    <tr style=\"text-align: right;\">\n",
       "      <th></th>\n",
       "      <th>Words</th>\n",
       "      <th>Frequency</th>\n",
       "    </tr>\n",
       "  </thead>\n",
       "  <tbody>\n",
       "    <tr>\n",
       "      <td>0</td>\n",
       "      <td>Because</td>\n",
       "      <td>1</td>\n",
       "    </tr>\n",
       "    <tr>\n",
       "      <td>1</td>\n",
       "      <td>a</td>\n",
       "      <td>64</td>\n",
       "    </tr>\n",
       "    <tr>\n",
       "      <td>2</td>\n",
       "      <td>slice</td>\n",
       "      <td>1</td>\n",
       "    </tr>\n",
       "    <tr>\n",
       "      <td>3</td>\n",
       "      <td>of</td>\n",
       "      <td>43</td>\n",
       "    </tr>\n",
       "    <tr>\n",
       "      <td>4</td>\n",
       "      <td>spanakopita</td>\n",
       "      <td>1</td>\n",
       "    </tr>\n",
       "    <tr>\n",
       "      <td>...</td>\n",
       "      <td>...</td>\n",
       "      <td>...</td>\n",
       "    </tr>\n",
       "    <tr>\n",
       "      <td>1307</td>\n",
       "      <td>sugar</td>\n",
       "      <td>1</td>\n",
       "    </tr>\n",
       "    <tr>\n",
       "      <td>1308</td>\n",
       "      <td>lend</td>\n",
       "      <td>1</td>\n",
       "    </tr>\n",
       "    <tr>\n",
       "      <td>1309</td>\n",
       "      <td>tasty</td>\n",
       "      <td>1</td>\n",
       "    </tr>\n",
       "    <tr>\n",
       "      <td>1310</td>\n",
       "      <td>fall</td>\n",
       "      <td>1</td>\n",
       "    </tr>\n",
       "    <tr>\n",
       "      <td>1311</td>\n",
       "      <td>drink</td>\n",
       "      <td>1</td>\n",
       "    </tr>\n",
       "  </tbody>\n",
       "</table>\n",
       "<p>1312 rows × 2 columns</p>\n",
       "</div>"
      ],
      "text/plain": [
       "            Words Frequency\n",
       "0         Because         1\n",
       "1               a        64\n",
       "2           slice         1\n",
       "3              of        43\n",
       "4     spanakopita         1\n",
       "...           ...       ...\n",
       "1307        sugar         1\n",
       "1308         lend         1\n",
       "1309        tasty         1\n",
       "1310         fall         1\n",
       "1311        drink         1\n",
       "\n",
       "[1312 rows x 2 columns]"
      ]
     },
     "execution_count": 17,
     "metadata": {},
     "output_type": "execute_result"
    }
   ],
   "source": [
    "import numpy as np\n",
    "arr=[]\n",
    "for i in ans:\n",
    "    s=[]\n",
    "    s.append(i)\n",
    "    s.append(ans[i])\n",
    "    arr.append(s)\n",
    "arr=np.array(arr)\n",
    "df = pd.DataFrame({\"Words\":arr[:,0],\"Frequency\":arr[:,1]})\n",
    "df.to_csv('answer.csv',index=False)\n",
    "df\n"
   ]
  },
  {
   "cell_type": "code",
   "execution_count": 13,
   "metadata": {},
   "outputs": [
    {
     "name": "stdout",
     "output_type": "stream",
     "text": [
      "The top hashtags are : \n",
      "#dilsefoodie\n",
      "#streetfood\n",
      "#sanjyotkeer\n",
      "#indiancuisine\n",
      "#recipeoftheday\n"
     ]
    }
   ],
   "source": [
    "df = df[df[\"Words\"].str.startswith(\"#\")]\n",
    "\n",
    "for i in range(len(df)):\n",
    "    df.iloc[i][1] = int(df.iloc[i][1])\n",
    "    \n",
    "df = df.sort_values(by=['Frequency'],ascending=False)\n",
    "hashtags = df.Words.values[:5]\n",
    "values = df.Frequency.values[:5]\n",
    "print(\"The top hashtags are : \")\n",
    "print(*hashtags,sep=\"\\n\")"
   ]
  },
  {
   "cell_type": "code",
   "execution_count": 14,
   "metadata": {},
   "outputs": [
    {
     "data": {
      "image/png": "[encoded data removed]",
      "text/plain": [
       "<Figure size 432x288 with 1 Axes>"
      ]
     },
     "metadata": {},
     "output_type": "display_data"
    }
   ],
   "source": [
    "explode=[0.1]*5\n",
    "\n",
    "plt.pie(values,labels=hashtags,shadow=True,autopct = \"%.2f%%\", wedgeprops = {'linewidth': 3},explode=explode)\n",
    "plt.title(\"Hashtags\")\n",
    "plt.show()"
   ]
  },
  {
   "cell_type": "markdown",
   "metadata": {},
   "source": [
    "# Step 3: You need to also calculate average followers : likes ratio for the obtained handles.Followers : Likes ratio is calculated as follows:\n",
    "### Find out the likes of the top 10 posts of the 5 handles obtained earlier.\n",
    "### Calculate the average likes for a handle.\n",
    "### Divide the average likes obtained from the number of followers of the handle to get the average followers:like ratio of each handle.\n",
    "### Create a bar graph to depict the above obtained information."
   ]
  },
  {
   "cell_type": "code",
   "execution_count": 15,
   "metadata": {},
   "outputs": [],
   "source": [
    "wait=WebDriverWait(driver,10)\n",
    "dict4 = {}\n",
    "for i in range(len(top_5_usernames)):\n",
    "    dict4[top_5_usernames[i]] = []\n",
    "for i in range(len(top_5_usernames)):\n",
    "    driver.get(\"https://instagram.com/\"+str(top_5_usernames[i]))\n",
    "\n",
    "    for j in range(10):\n",
    "        posts = wait.until(EC.presence_of_all_elements_located((By.CLASS_NAME,\"v1Nh3.kIKUG._bz0w\")))[:10]\n",
    "        posts[j].click()\n",
    "        time.sleep(1)\n",
    "        try:\n",
    "            likes = wait.until(EC.presence_of_element_located((By.XPATH,'//div[contains(@class,\"Nm9Fw\")]/button/span')))\n",
    "            like = likes.get_attribute(\"innerHTML\")\n",
    "            like=int(like.replace(\",\",\"\"))\n",
    "            dict4[top_5_usernames[i]].append(like)\n",
    "            time.sleep(1)\n",
    "            close_button=wait.until(EC.presence_of_element_located((By.XPATH,\"//div[contains(@class,'_2dDPU')]/div[3]/button\")))\n",
    "            close_button.click()  \n",
    "        except:                # If the post is a video, finding likes on each is a 10s process, which is task of \"except\"\n",
    "            actions = ActionChains(driver)\n",
    "            views = driver.find_element_by_class_name('vcOH2')\n",
    "            views.click()\n",
    "            likes = wait.until(EC.presence_of_element_located((By.XPATH,'//div[contains(@class,\"vJRqr\")]/span')))\n",
    "            like = likes.get_attribute(\"innerHTML\")\n",
    "            like=int(like.replace(\",\",\"\"))\n",
    "            dict4[top_5_usernames[i]].append(like)\n",
    "            time.sleep(1)\n",
    "            close_button=wait.until(EC.presence_of_element_located((By.XPATH,\"//div[contains(@class,'_2dDPU')]/div[3]/button\")))\n",
    "            actions.double_click(close_button).perform()\n",
    "    \n",
    "# Explanation: Actions Chain is used to perform double click. When the post is a video, likes can only be found by clicking\n",
    "# on the number of views. A lighbox opens revealing the number of likes, this process takes 10s.\n",
    "# After this light box is opened, we need to close it by clicking randomly on the screen, only then the other buttons of \n",
    "# the page will be accessible.\n",
    "\n",
    "# I have performed a double click to stimulate this random click + the actual click on the close button of this post."
   ]
  },
  {
   "cell_type": "code",
   "execution_count": 16,
   "metadata": {},
   "outputs": [
    {
     "name": "stdout",
     "output_type": "stream",
     "text": [
      "For Username:  buzzfeedfood Follower:Like is :\n",
      "0.0005223038635518778\n",
      "For Username:  foodinsider Follower:Like is :\n",
      "0.005836229298988933\n",
      "For Username:  yourfoodlab Follower:Like is :\n",
      "0.01774662534394683\n",
      "For Username:  dilsefoodie Follower:Like is :\n",
      "0.010973551985735902\n",
      "For Username:  foodtalkindia Follower:Like is :\n",
      "0.0031925210056125666\n"
     ]
    }
   ],
   "source": [
    "for i in range(5):\n",
    "    dict4[top_5_usernames[i]] = np.array(dict4[top_5_usernames[i]])\n",
    "    print(\"For Username: \",dict1[i][0], \"Follower:Like is :\")\n",
    "    print((dict4[top_5_usernames[i]].mean()) / dict1[i][1])"
   ]
  }
 ],
 "metadata": {
  "kernelspec": {
   "display_name": "Python 3",
   "language": "python",
   "name": "python3"
  },
  "language_info": {
   "codemirror_mode": {
    "name": "ipython",
    "version": 3
   },
   "file_extension": ".py",
   "mimetype": "text/x-python",
   "name": "python",
   "nbconvert_exporter": "python",
   "pygments_lexer": "ipython3",
   "version": "3.7.6"
  }
 },
 "nbformat": 4,
 "nbformat_minor": 2
}
